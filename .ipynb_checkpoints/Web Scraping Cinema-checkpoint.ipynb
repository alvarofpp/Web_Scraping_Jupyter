{
 "cells": [
  {
   "cell_type": "code",
   "execution_count": 1,
   "metadata": {
    "collapsed": true
   },
   "outputs": [],
   "source": [
    "#import package\n",
    "import requests\n",
    "from bs4 import BeautifulSoup"
   ]
  },
  {
   "cell_type": "code",
   "execution_count": 31,
   "metadata": {
    "collapsed": true
   },
   "outputs": [],
   "source": [
    "url_imdb = 'http://www.imdb.com/title/tt0451279/?ref_=nv_sr_1'\n",
    "url_tomates = 'https://www.rottentomatoes.com/m/wonder_woman_2017'\n",
    "url_filmow = 'https://filmow.com/mulher-maravilha-t48706/'"
   ]
  },
  {
   "cell_type": "markdown",
   "metadata": {},
   "source": [
    "# IMDb"
   ]
  },
  {
   "cell_type": "code",
   "execution_count": 30,
   "metadata": {
    "collapsed": false
   },
   "outputs": [
    {
     "name": "stdout",
     "output_type": "stream",
     "text": [
      "Title: Mulher-Maravilha (2017) \n",
      "Rating: 8.3/10 (55,640 users rating)\n",
      "Time: 2h 21min\n",
      "Genres: Action, Adventure, Fantasy\n"
     ]
    }
   ],
   "source": [
    "# Get the page content and set up a new parser\n",
    "response = requests.get(url_imdb)\n",
    "content = response.content\n",
    "soup = BeautifulSoup(content, 'html.parser')\n",
    "\n",
    "# Get title\n",
    "title = soup.find_all(\"h1\", itemprop=\"name\")[0].text\n",
    "print(\"Title: \" + title)\n",
    "\n",
    "# Get rating\n",
    "rating = soup.find_all(\"span\", itemprop=\"ratingValue\")[0].text\n",
    "userRating = soup.find_all(\"span\", itemprop=\"ratingCount\")[0].text\n",
    "print(\"Rating: \" + rating + \"/10 (\" + userRating + \" users rating)\")\n",
    "\n",
    "# Get time\n",
    "time = soup.find_all(\"time\", itemprop=\"duration\")[0].text\n",
    "print(\"Time: \" + time.strip())\n",
    "\n",
    "# Get genres\n",
    "genres = soup.find_all(\"span\", itemprop=\"genre\", class_=\"itemprop\")\n",
    "g = \"\"\n",
    "for genre in genres:\n",
    "    g = g + genre.text + \", \"\n",
    "print(\"Genres: \" + g[0:-2])"
   ]
  },
  {
   "cell_type": "markdown",
   "metadata": {},
   "source": [
    "# Rotten tomates"
   ]
  },
  {
   "cell_type": "code",
   "execution_count": 99,
   "metadata": {
    "collapsed": false
   },
   "outputs": [
    {
     "name": "stdout",
     "output_type": "stream",
     "text": [
      "Title: Wonder Woman (2017)\n",
      "\n",
      "----- TOMATOMETER -----\n",
      "Rating: 93%\n",
      "Average Rating: \n",
      "                                7.6/10\n",
      "Reviews Counted: 257\n",
      "Fresh: 240\n",
      "Rotten: 17\n",
      "\n",
      "Critics Consensus:\n",
      "                        Thrilling, earnest, and buoyed by Gal Gadot's charismatic performance, Wonder Woman succeeds in spectacular fashion.\n",
      "\n",
      "----- AUDIENCE SCORE -----\n",
      "Rating: 93%\n",
      "Average Rating:\n",
      "            4.5/5\n",
      "User Ratings:\n",
      "        70,718\n",
      "\n",
      "----- Movie Info -----\n",
      "Synopsis: \n",
      "    An Amazon princess (Gal Gadot) finds her idyllic life on an island occupied only by female warriors interrupted when a pilot (Chris Pine) crash-lands nearby. After rescuing him, she learns that World War I is engulfing the planet, and vows to use her superpowers to restore peace. Directed by Patty Jenkins (Monster).\n",
      "[]\n"
     ]
    }
   ],
   "source": [
    "# Get the page content and set up a new parser\n",
    "response = requests.get(url_tomates)\n",
    "content = response.content\n",
    "soup = BeautifulSoup(content, 'html.parser')\n",
    "\n",
    "# Get title\n",
    "title = soup.find_all(\"h1\", class_=\"title hidden-xs\")[0].text\n",
    "print(\"Title: \" + title.strip())\n",
    "\n",
    "### TOMATOMETER\n",
    "print(\"\\n----- TOMATOMETER -----\")\n",
    "# Get rating\n",
    "rating = soup.find_all(\"span\", class_=\"meter-value superPageFontColor\")[0].text\n",
    "print(\"Rating: \" + rating)\n",
    "\n",
    "divs = soup.find_all(\"div\", id=\"scoreStats\")[0].find_all(\"div\", class_=\"superPageFontColor\")\n",
    "for div in divs:\n",
    "    if(len(div.find_all(\"span\")) == 2):\n",
    "        print(div.find_all(\"span\")[0].text + div.find_all(\"span\")[1].text)\n",
    "    else:\n",
    "        print(div.text.strip())\n",
    "\n",
    "critic = soup.find_all(\"p\", class_=\"critic_consensus superPageFontColor\")[0]\n",
    "print(critic.text)\n",
    "\n",
    "### AUDIENCE SCORE\n",
    "print(\"\\n----- AUDIENCE SCORE -----\")\n",
    "# Get audience\n",
    "audience = soup.find_all(\"span\", class_=\"superPageFontColor\")[0].text\n",
    "print(\"Rating: \" + audience)\n",
    "\n",
    "divs = soup.find_all(\"div\", class_=\"audience-info hidden-xs superPageFontColor\")[0].find_all(\"div\")\n",
    "for div in divs:\n",
    "    print(div.text.strip())\n",
    "    \n",
    "print(\"\\n----- Movie Info -----\")\n",
    "# Synopsis\n",
    "movie_synopsis = soup.find_all(\"div\", id=\"movieSynopsis\")[0]\n",
    "print(\"Synopsis: \" + movie_synopsis.text)\n",
    "# Box Office\n",
    "meta_row = soup.find_all(\"div\", class_=\"media-body\")[0].find_all(\"ul\", class_=\"content-meta info\")\n",
    "print(meta_row)\n",
    ".find_all(\"li\")\n",
    "for meta in meta_row:\n",
    "    print(meta)"
   ]
  },
  {
   "cell_type": "markdown",
   "metadata": {},
   "source": [
    "# Filmow"
   ]
  },
  {
   "cell_type": "code",
   "execution_count": null,
   "metadata": {
    "collapsed": true
   },
   "outputs": [],
   "source": []
  }
 ],
 "metadata": {
  "kernelspec": {
   "display_name": "Python 3",
   "language": "python",
   "name": "python3"
  },
  "language_info": {
   "codemirror_mode": {
    "name": "ipython",
    "version": 3
   },
   "file_extension": ".py",
   "mimetype": "text/x-python",
   "name": "python",
   "nbconvert_exporter": "python",
   "pygments_lexer": "ipython3",
   "version": "3.6.0"
  }
 },
 "nbformat": 4,
 "nbformat_minor": 2
}
