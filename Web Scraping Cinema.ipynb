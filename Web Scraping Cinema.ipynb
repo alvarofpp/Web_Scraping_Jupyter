{
 "cells": [
  {
   "cell_type": "code",
   "execution_count": null,
   "metadata": {
    "collapsed": false
   },
   "outputs": [],
   "source": [
    "import pandas as pd\n",
    "import requests\n",
    "from bs4 import BeautifulSoup\n",
    "import time\n",
    "import re"
   ]
  },
  {
   "cell_type": "code",
   "execution_count": null,
   "metadata": {
    "collapsed": true
   },
   "outputs": [],
   "source": [
    "url_imdb = 'http://www.imdb.com/title/tt0451279/?ref_=nv_sr_1'\n",
    "url_tomates = 'https://www.rottentomatoes.com/m/wonder_woman_2017'\n",
    "url_filmow = 'https://filmow.com/mulher-maravilha-t48706/'"
   ]
  },
  {
   "cell_type": "markdown",
   "metadata": {},
   "source": [
    "# IMDb"
   ]
  },
  {
   "cell_type": "code",
   "execution_count": null,
   "metadata": {
    "collapsed": false
   },
   "outputs": [],
   "source": [
    "# Get the page content and set up a new parser\n",
    "response = requests.get(url_imdb)\n",
    "content = response.content\n",
    "soup = BeautifulSoup(content, 'html.parser')\n",
    "\n",
    "# Get title\n",
    "title = soup.find_all(\"h1\", itemprop=\"name\")[0].text\n",
    "print(\"Title: \" + title)\n",
    "\n",
    "# Get rating\n",
    "rating = soup.find_all(\"span\", itemprop=\"ratingValue\")[0].text\n",
    "userRating = soup.find_all(\"span\", itemprop=\"ratingCount\")[0].text\n",
    "print(\"Rating: \" + rating + \"/10 (\" + userRating + \" users rating)\")\n",
    "\n",
    "# Get time\n",
    "time = soup.find_all(\"time\", itemprop=\"duration\")[0].text\n",
    "print(\"Time: \" + time.strip())\n",
    "\n",
    "# Get genres\n",
    "genres = soup.find_all(\"span\", itemprop=\"genre\", class_=\"itemprop\")\n",
    "g = \"\"\n",
    "for genre in genres:\n",
    "    g = g + genre.text + \", \"\n",
    "print(\"Genres: \" + g[0:-2])"
   ]
  },
  {
   "cell_type": "markdown",
   "metadata": {},
   "source": [
    "# Rotten tomates"
   ]
  },
  {
   "cell_type": "code",
   "execution_count": null,
   "metadata": {
    "collapsed": false
   },
   "outputs": [],
   "source": [
    "# Get the page content and set up a new parser\n",
    "response = requests.get(url_tomates)\n",
    "content = response.content\n",
    "soup = BeautifulSoup(content, 'html.parser')\n",
    "\n",
    "# Get title\n",
    "title = soup.find_all(\"h1\", class_=\"title hidden-xs\")[0].text\n",
    "print(\"Title: \" + title.strip())\n",
    "\n",
    "### TOMATOMETER\n",
    "print(\"\\n----- TOMATOMETER -----\")\n",
    "# Get rating\n",
    "rating = soup.find_all(\"span\", class_=\"meter-value superPageFontColor\")[0].text\n",
    "print(\"Rating: \" + rating)\n",
    "\n",
    "divs = soup.find_all(\"div\", id=\"scoreStats\")[0].find_all(\"div\", class_=\"superPageFontColor\")\n",
    "for div in divs:\n",
    "    if(len(div.find_all(\"span\")) == 2):\n",
    "        print(div.find_all(\"span\")[0].text + div.find_all(\"span\")[1].text)\n",
    "    else:\n",
    "        print(div.text.strip())\n",
    "\n",
    "critic = soup.find_all(\"p\", class_=\"critic_consensus superPageFontColor\")[0]\n",
    "print(critic.text)\n",
    "\n",
    "### AUDIENCE SCORE\n",
    "print(\"\\n----- AUDIENCE SCORE -----\")\n",
    "# Get audience\n",
    "audience = soup.find_all(\"span\", class_=\"superPageFontColor\")[0].text\n",
    "print(\"Rating: \" + audience)\n",
    "\n",
    "divs = soup.find_all(\"div\", class_=\"audience-info hidden-xs superPageFontColor\")[0].find_all(\"div\")\n",
    "for div in divs:\n",
    "    print(div.text.strip())\n",
    "    \n",
    "print(\"\\n----- Movie Info -----\")\n",
    "# Synopsis\n",
    "movie_synopsis = soup.find_all(\"div\", id=\"movieSynopsis\")[0]\n",
    "print(\"Synopsis: \" + movie_synopsis.text)\n",
    "# Box Office\n",
    "meta_row = soup.find_all(\"div\", class_=\"media-body\")[0].find_all(\"ul\", class_=\"content-meta info\")\n",
    "print(meta_row)\n",
    "# .find_all(\"li\")\n",
    "for meta in meta_row:\n",
    "    print(meta)"
   ]
  },
  {
   "cell_type": "markdown",
   "metadata": {},
   "source": [
    "# Filmow #To-do"
   ]
  },
  {
   "cell_type": "markdown",
   "metadata": {},
   "source": [
    "# Getting movie theater schedule data"
   ]
  },
  {
   "cell_type": "markdown",
   "metadata": {},
   "source": [
    "## Cinépolis"
   ]
  },
  {
   "cell_type": "code",
   "execution_count": null,
   "metadata": {
    "collapsed": false
   },
   "outputs": [],
   "source": [
    "def generate_cinepolis_soup(cod_cinema, cod_claquete):\n",
    "    body = {\n",
    "        'cod_cinema'   : cod_cinema,\n",
    "        'cod_claquete' : cod_claquete,\n",
    "        'cod_horario'  : time.strftime(\"%Y-%m-%d\"),\n",
    "        'cod_filme'    : '0'\n",
    "    }\n",
    "    page = requests.post('http://www.cinepolis.com.br/programacao/ajax/ajax.conteudo_horarios.php', data = body)\n",
    "    return BeautifulSoup(page.content, 'html.parser')"
   ]
  },
  {
   "cell_type": "code",
   "execution_count": null,
   "metadata": {
    "collapsed": false
   },
   "outputs": [],
   "source": [
    "# Helper\n",
    "def has_movie(row):\n",
    "    return row.find(attrs={'data-order': re.compile('\\w+')})\n",
    "\n",
    "def get_cinepolis_schedule_data(soup, movie_theater):\n",
    "    table = soup.find(\"table\", { \"class\" : \"tabelahorarios\" })\n",
    "    rows = table.find_all('tr')\n",
    "\n",
    "    entries = [row for row in rows if has_movie(row)]\n",
    "\n",
    "    rows_list = []\n",
    "\n",
    "    for entry in entries:\n",
    "        title = entry.find_all(href=re.compile('http://www.cinepolis.com.br/filmes/filme.php'))[0].text\n",
    "\n",
    "        room = entry.find_all('td')[0].text\n",
    "\n",
    "        tags = []\n",
    "        if(entry.find(\"a\", { \"class\" : \"icovip\" })):\n",
    "            tags.append('VIP')\n",
    "        if(entry.find(\"a\", { \"class\" : \"icomacroxe\" })):\n",
    "            tags.append('MacroXE')\n",
    "        if(entry.find(\"a\", { \"class\" : \"ico3d\" })):\n",
    "            tags.append('3D')\n",
    "        tags = ' / '.join(tags)\n",
    "\n",
    "        content_rating = entry.find_all('td')[2].find('img').get('alt')\n",
    "\n",
    "        category = entry.find(\"td\", { \"class\" : \"horarios\" }).find('span').get('aria-label')\n",
    "\n",
    "        schedules_tags = entry.find(\"td\", { \"class\" : \"horarios\" }).select(\"span + span, a\")\n",
    "        schedules = ' / '.join([s.text for s in schedules_tags])\n",
    "\n",
    "        row_dict = {\n",
    "            'room': room,\n",
    "            'title': title,\n",
    "            'tags': tags,\n",
    "            'content_rating': content_rating,\n",
    "            'category': category,\n",
    "            'schedules': schedules,\n",
    "            'movie_theater': movie_theater\n",
    "        }\n",
    "        rows_list.append(row_dict)\n",
    "\n",
    "    return pd.DataFrame(rows_list)"
   ]
  },
  {
   "cell_type": "markdown",
   "metadata": {},
   "source": [
    "### Cinépolis Natal Shopping"
   ]
  },
  {
   "cell_type": "code",
   "execution_count": null,
   "metadata": {
    "collapsed": false
   },
   "outputs": [],
   "source": [
    "cinepolis_natal_shopping_soup = generate_cinepolis_soup('31', '769')\n",
    "cinepolis_natal_shopping_df = get_cinepolis_schedule_data(cinepolis_natal_shopping_soup, 'Cinépolis Natal Shopping')\n",
    "cinepolis_natal_shopping_df"
   ]
  },
  {
   "cell_type": "markdown",
   "metadata": {},
   "source": [
    "### Cinépolis Partage Norte Shopping Natal"
   ]
  },
  {
   "cell_type": "code",
   "execution_count": null,
   "metadata": {
    "collapsed": false
   },
   "outputs": [],
   "source": [
    "cinepolis_norte_shopping_soup = generate_cinepolis_soup('33', '770')\n",
    "cinepolis_norte_shopping_df = get_cinepolis_schedule_data(cinepolis_norte_shopping_soup, 'Cinépolis Partage Norte Shopping Natal')\n",
    "cinepolis_norte_shopping_df"
   ]
  },
  {
   "cell_type": "markdown",
   "metadata": {},
   "source": [
    "## Cinemark"
   ]
  },
  {
   "cell_type": "code",
   "execution_count": null,
   "metadata": {
    "collapsed": false
   },
   "outputs": [],
   "source": [
    "response = requests.get('https://www.cinemark.com.br/natal/cinemas')\n",
    "soup = BeautifulSoup(response.content, 'html.parser')"
   ]
  },
  {
   "cell_type": "code",
   "execution_count": null,
   "metadata": {
    "collapsed": false
   },
   "outputs": [],
   "source": [
    "table = soup.select('div.section.times div.tabs-content > div.active')[0]\n",
    "rows = table.find_all('div', { 'class': 'theater' })\n",
    "\n",
    "entries = rows\n",
    "\n",
    "rows_list = []\n",
    "\n",
    "def has_content_rating_data(tag):\n",
    "    return 'Classificação' in tag.select('strong')[0].text\n",
    "\n",
    "for entry in entries:\n",
    "    title_tag = entry.select('h3.title > a')[0]\n",
    "    title = title_tag.text\n",
    "    movie_url = 'https://www.cinemark.com.br' + title_tag.get('href')\n",
    "    \n",
    "    movie_response = requests.get(movie_url)\n",
    "    movie_soup = BeautifulSoup(movie_response.content, 'html.parser'\n",
    "                              )\n",
    "    detail_items = movie_soup.find_all('div', { 'class' : 'detail-title' })\n",
    "    content_rating_tag = [item for item in detail_items if has_content_rating_data(item)][0]\n",
    "    content_rating = content_rating_tag.get_text().split('Classificação: ')[1].strip()\n",
    "    \n",
    "    times = entry.select('ul.theater-times > li')\n",
    "    \n",
    "    for time in times:\n",
    "        room = time.find('span', { 'class' : 'times-auditorium' }).text\n",
    "\n",
    "        schedules_tags = time.find('ul', { 'class' : 'times-options' }).select('li > span')\n",
    "        schedules = ' / '.join([s.text for s in schedules_tags])\n",
    "\n",
    "        tags = []\n",
    "        if(time.find('span', { 'class' : 'label-dbox' })):\n",
    "            tags.append('DBOX')\n",
    "        if(time.find('span', { 'class' : 'label-3d' })):\n",
    "            tags.append('3D')\n",
    "        tags = ' / '.join(tags)\n",
    "        \n",
    "        category = ''\n",
    "        if(time.find('span', { 'class' : 'label-leg' })):\n",
    "            category = 'Legendado'\n",
    "        if(time.find('span', { 'class' : 'label-dub' })):\n",
    "            category = 'Dublado'\n",
    "        if(time.find('span', { 'class' : 'label-orig' })):\n",
    "            category = 'Dublado'\n",
    "\n",
    "        row_dict = {\n",
    "            'room': room,\n",
    "            'title': title,\n",
    "            'tags': tags,\n",
    "            'content_rating': content_rating,\n",
    "            'category': category,\n",
    "            'schedules': schedules,\n",
    "            'movie_theater': 'Cinemark Midway Mall Natal'\n",
    "        }\n",
    "        rows_list.append(row_dict)\n",
    "\n",
    "cinemark_midway_df = pd.DataFrame(rows_list)"
   ]
  },
  {
   "cell_type": "code",
   "execution_count": null,
   "metadata": {
    "collapsed": false
   },
   "outputs": [],
   "source": [
    "cinemark_midway_df"
   ]
  }
 ],
 "metadata": {
  "kernelspec": {
   "display_name": "Python 3",
   "language": "python",
   "name": "python3"
  },
  "language_info": {
   "codemirror_mode": {
    "name": "ipython",
    "version": 3
   },
   "file_extension": ".py",
   "mimetype": "text/x-python",
   "name": "python",
   "nbconvert_exporter": "python",
   "pygments_lexer": "ipython3",
   "version": "3.6.0"
  }
 },
 "nbformat": 4,
 "nbformat_minor": 2
}
